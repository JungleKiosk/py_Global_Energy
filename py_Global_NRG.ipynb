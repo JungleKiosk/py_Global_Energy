{
  "nbformat": 4,
  "nbformat_minor": 0,
  "metadata": {
    "colab": {
      "provenance": [],
      "authorship_tag": "ABX9TyPk9C7t4hWWAdkIfn+TEVwe"
    },
    "kernelspec": {
      "name": "python3",
      "display_name": "Python 3"
    },
    "language_info": {
      "name": "python"
    }
  },
  "cells": [
    {
      "cell_type": "markdown",
      "source": [
        "# Global Energy"
      ],
      "metadata": {
        "id": "YXaVn8IhaYeO"
      }
    },
    {
      "cell_type": "markdown",
      "source": [
        "## Introduction\n",
        "\n",
        "In this project we will address a common problem: **missing data**. We will start from a global energy consumption dataset containing a variable with several missing values and we will build a **linear regression** model that will exploit the known values (of another variable) to predict the null ones.\n",
        "\n",
        "![](https://raw.githubusercontent.com/boolean-data-analytics/img/main/on-demand/DAREG-global-energy.jpeg)"
      ],
      "metadata": {
        "id": "df7sGdF9aoZn"
      }
    },
    {
      "cell_type": "markdown",
      "source": [
        "**[linear regression](https://realpython.com/linear-regression-in-python/)** is one of the best known statistical learning techniques and is therefore the perfect springboard to enter the vast and exciting world of machine learning.\n",
        "\n",
        "The most common goal in statistics and, more generally, in data science, is to **predict**, i.e. use the `data` available to build a `model` (which is a simplified representation of the reality) that allows us to make a `prediction` about a future or not yet observed event.\n",
        "\n",
        "> *It may seem like an abstract concept, but it's what we do every day before leaving home:*\n",
        "1. let's look out the window and see if the sky is overcast > `data`\n",
        "2. we compare the observed sky with our past experience > `model`\n",
        "3. let's evaluate whether it is likely to rain > `forecast`"
      ],
      "metadata": {
        "id": "ClqXcB3Rasq0"
      }
    }
  ]
}