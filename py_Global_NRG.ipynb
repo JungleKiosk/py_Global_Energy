{
  "nbformat": 4,
  "nbformat_minor": 0,
  "metadata": {
    "colab": {
      "provenance": [],
      "toc_visible": true,
      "authorship_tag": "ABX9TyNKw6ZpnzelUuw4vaOzuIoj"
    },
    "kernelspec": {
      "name": "python3",
      "display_name": "Python 3"
    },
    "language_info": {
      "name": "python"
    }
  },
  "cells": [
    {
      "cell_type": "markdown",
      "source": [
        "# Global Energy"
      ],
      "metadata": {
        "id": "YXaVn8IhaYeO"
      }
    },
    {
      "cell_type": "markdown",
      "source": [
        "## Introduction\n",
        "\n",
        "In this project we will address a common problem: **missing data**. We will start from a global energy consumption dataset containing a variable with several missing values and we will build a **linear regression** model that will exploit the known values (of another variable) to predict the null ones.\n",
        "\n",
        "![](https://raw.githubusercontent.com/boolean-data-analytics/img/main/on-demand/DAREG-global-energy.jpeg)"
      ],
      "metadata": {
        "id": "df7sGdF9aoZn"
      }
    },
    {
      "cell_type": "markdown",
      "source": [
        "**[linear regression](https://realpython.com/linear-regression-in-python/)** is one of the best known statistical learning techniques and is therefore the perfect springboard to enter the vast and exciting world of machine learning.\n",
        "\n",
        "The most common goal in statistics and, more generally, in data science, is to **predict**, i.e. use the `data` available to build a `model` (which is a simplified representation of the reality) that allows us to make a `prediction` about a future or not yet observed event.\n",
        "\n",
        "> *It may seem like an abstract concept, but it's what we do every day before leaving home:*\n",
        "1. let's look out the window and see if the sky is overcast > `data`\n",
        "2. we compare the observed sky with our past experience > `model`\n",
        "3. let's evaluate whether it is likely to rain > `forecast`"
      ],
      "metadata": {
        "id": "ClqXcB3Rasq0"
      }
    },
    {
      "cell_type": "markdown",
      "source": [
        "> in general the most common goal of data science is to predict something from data, creating a model (simplification of reality) and a future or missing value."
      ],
      "metadata": {
        "id": "mFlMzsDBbngU"
      }
    },
    {
      "cell_type": "markdown",
      "source": [
        "## Dataset"
      ],
      "metadata": {
        "id": "DTx4OiS2bRYi"
      }
    },
    {
      "cell_type": "markdown",
      "source": [
        "First we load all the **libraries** that we will need in the analysis."
      ],
      "metadata": {
        "id": "9U-2Tmn0bVZE"
      }
    },
    {
      "cell_type": "code",
      "source": [
        "#--------------------\n",
        "# Basic libraries for data analysis\n",
        "import numpy as np\n",
        "import pandas as pd\n",
        "\n",
        "#--------------------\n",
        "# Data Visualization\n",
        "import seaborn as sns\n",
        "\n",
        "sns.set_theme()\n",
        "sns.set(rc={'figure.figsize':(11,7)})\n",
        "\n",
        "from matplotlib import pyplot as plt\n",
        "\n",
        "#--------------------\n",
        "# One of the most popular data science libraries\n",
        "from sklearn.linear_model import LinearRegression\n"
      ],
      "metadata": {
        "id": "efflRV4GbaWG"
      },
      "execution_count": 2,
      "outputs": []
    },
    {
      "cell_type": "markdown",
      "source": [
        "We will work with a dataset containing annual data (from 2000 to 2012) related to socio-economic indicators (such as GDP, CO2 emissions, energy consumption, life expectancy, etc.) from over 200 countries around the world.\n",
        "\n",
        "Let's load the dataset and take a first look at it:"
      ],
      "metadata": {
        "id": "SVBIjhyseFqd"
      }
    },
    {
      "cell_type": "code",
      "source": [
        "df = pd.read_csv('https://raw.githubusercontent.com/boolean-data-analytics/data/main/World%20Indicators%20S.csv')\n",
        "df"
      ],
      "metadata": {
        "colab": {
          "base_uri": "https://localhost:8080/",
          "height": 423
        },
        "id": "UKOpYeTmdBjP",
        "outputId": "ccd6be6e-3f2e-4153-f2d8-8c930db1e297"
      },
      "execution_count": 3,
      "outputs": [
        {
          "output_type": "execute_result",
          "data": {
            "text/plain": [
              "     Country/Region        Region        Year  Population Total           GDP  \\\n",
              "0           Algeria        Africa  01/12/2000          31719449  5.479006e+10   \n",
              "1            Angola        Africa  01/12/2000          13924930  9.129595e+09   \n",
              "2             Benin        Africa  01/12/2000           6949366  2.359122e+09   \n",
              "3          Botswana        Africa  01/12/2000           1755375  5.788312e+09   \n",
              "4      Burkina Faso        Africa  01/12/2000          11607944  2.610959e+09   \n",
              "...             ...           ...         ...               ...           ...   \n",
              "2686         Belize  The Americas  01/12/2012            324060  1.572500e+09   \n",
              "2687          Haiti  The Americas  01/12/2012          10173775  7.890217e+09   \n",
              "2688        Bolivia  The Americas  01/12/2012          10496285  2.703511e+10   \n",
              "2689       Honduras  The Americas  01/12/2012           7935846  1.856426e+10   \n",
              "2690      Guatemala  The Americas  01/12/2012          15082831  5.038845e+10   \n",
              "\n",
              "      CO2 Emissions  Energy Usage  Life Expectancy  Infant Mortality Rate  \n",
              "0           87931.0       26998.0             69.0                  0.034  \n",
              "1            9542.0        7499.0             45.5                  0.128  \n",
              "2            1617.0        1983.0             55.0                  0.090  \n",
              "3            4276.0        1836.0             50.5                  0.054  \n",
              "4            1041.0           NaN             50.5                  0.096  \n",
              "...             ...           ...              ...                    ...  \n",
              "2686            NaN           NaN             74.0                  0.015  \n",
              "2687            NaN           NaN             63.0                  0.056  \n",
              "2688            NaN           NaN             67.0                  0.032  \n",
              "2689            NaN           NaN             73.5                  0.020  \n",
              "2690            NaN           NaN             71.5                  0.027  \n",
              "\n",
              "[2691 rows x 9 columns]"
            ],
            "text/html": [
              "\n",
              "\n",
              "  <div id=\"df-5a16d5c4-bc07-4d8d-b309-952acc6b09b1\">\n",
              "    <div class=\"colab-df-container\">\n",
              "      <div>\n",
              "<style scoped>\n",
              "    .dataframe tbody tr th:only-of-type {\n",
              "        vertical-align: middle;\n",
              "    }\n",
              "\n",
              "    .dataframe tbody tr th {\n",
              "        vertical-align: top;\n",
              "    }\n",
              "\n",
              "    .dataframe thead th {\n",
              "        text-align: right;\n",
              "    }\n",
              "</style>\n",
              "<table border=\"1\" class=\"dataframe\">\n",
              "  <thead>\n",
              "    <tr style=\"text-align: right;\">\n",
              "      <th></th>\n",
              "      <th>Country/Region</th>\n",
              "      <th>Region</th>\n",
              "      <th>Year</th>\n",
              "      <th>Population Total</th>\n",
              "      <th>GDP</th>\n",
              "      <th>CO2 Emissions</th>\n",
              "      <th>Energy Usage</th>\n",
              "      <th>Life Expectancy</th>\n",
              "      <th>Infant Mortality Rate</th>\n",
              "    </tr>\n",
              "  </thead>\n",
              "  <tbody>\n",
              "    <tr>\n",
              "      <th>0</th>\n",
              "      <td>Algeria</td>\n",
              "      <td>Africa</td>\n",
              "      <td>01/12/2000</td>\n",
              "      <td>31719449</td>\n",
              "      <td>5.479006e+10</td>\n",
              "      <td>87931.0</td>\n",
              "      <td>26998.0</td>\n",
              "      <td>69.0</td>\n",
              "      <td>0.034</td>\n",
              "    </tr>\n",
              "    <tr>\n",
              "      <th>1</th>\n",
              "      <td>Angola</td>\n",
              "      <td>Africa</td>\n",
              "      <td>01/12/2000</td>\n",
              "      <td>13924930</td>\n",
              "      <td>9.129595e+09</td>\n",
              "      <td>9542.0</td>\n",
              "      <td>7499.0</td>\n",
              "      <td>45.5</td>\n",
              "      <td>0.128</td>\n",
              "    </tr>\n",
              "    <tr>\n",
              "      <th>2</th>\n",
              "      <td>Benin</td>\n",
              "      <td>Africa</td>\n",
              "      <td>01/12/2000</td>\n",
              "      <td>6949366</td>\n",
              "      <td>2.359122e+09</td>\n",
              "      <td>1617.0</td>\n",
              "      <td>1983.0</td>\n",
              "      <td>55.0</td>\n",
              "      <td>0.090</td>\n",
              "    </tr>\n",
              "    <tr>\n",
              "      <th>3</th>\n",
              "      <td>Botswana</td>\n",
              "      <td>Africa</td>\n",
              "      <td>01/12/2000</td>\n",
              "      <td>1755375</td>\n",
              "      <td>5.788312e+09</td>\n",
              "      <td>4276.0</td>\n",
              "      <td>1836.0</td>\n",
              "      <td>50.5</td>\n",
              "      <td>0.054</td>\n",
              "    </tr>\n",
              "    <tr>\n",
              "      <th>4</th>\n",
              "      <td>Burkina Faso</td>\n",
              "      <td>Africa</td>\n",
              "      <td>01/12/2000</td>\n",
              "      <td>11607944</td>\n",
              "      <td>2.610959e+09</td>\n",
              "      <td>1041.0</td>\n",
              "      <td>NaN</td>\n",
              "      <td>50.5</td>\n",
              "      <td>0.096</td>\n",
              "    </tr>\n",
              "    <tr>\n",
              "      <th>...</th>\n",
              "      <td>...</td>\n",
              "      <td>...</td>\n",
              "      <td>...</td>\n",
              "      <td>...</td>\n",
              "      <td>...</td>\n",
              "      <td>...</td>\n",
              "      <td>...</td>\n",
              "      <td>...</td>\n",
              "      <td>...</td>\n",
              "    </tr>\n",
              "    <tr>\n",
              "      <th>2686</th>\n",
              "      <td>Belize</td>\n",
              "      <td>The Americas</td>\n",
              "      <td>01/12/2012</td>\n",
              "      <td>324060</td>\n",
              "      <td>1.572500e+09</td>\n",
              "      <td>NaN</td>\n",
              "      <td>NaN</td>\n",
              "      <td>74.0</td>\n",
              "      <td>0.015</td>\n",
              "    </tr>\n",
              "    <tr>\n",
              "      <th>2687</th>\n",
              "      <td>Haiti</td>\n",
              "      <td>The Americas</td>\n",
              "      <td>01/12/2012</td>\n",
              "      <td>10173775</td>\n",
              "      <td>7.890217e+09</td>\n",
              "      <td>NaN</td>\n",
              "      <td>NaN</td>\n",
              "      <td>63.0</td>\n",
              "      <td>0.056</td>\n",
              "    </tr>\n",
              "    <tr>\n",
              "      <th>2688</th>\n",
              "      <td>Bolivia</td>\n",
              "      <td>The Americas</td>\n",
              "      <td>01/12/2012</td>\n",
              "      <td>10496285</td>\n",
              "      <td>2.703511e+10</td>\n",
              "      <td>NaN</td>\n",
              "      <td>NaN</td>\n",
              "      <td>67.0</td>\n",
              "      <td>0.032</td>\n",
              "    </tr>\n",
              "    <tr>\n",
              "      <th>2689</th>\n",
              "      <td>Honduras</td>\n",
              "      <td>The Americas</td>\n",
              "      <td>01/12/2012</td>\n",
              "      <td>7935846</td>\n",
              "      <td>1.856426e+10</td>\n",
              "      <td>NaN</td>\n",
              "      <td>NaN</td>\n",
              "      <td>73.5</td>\n",
              "      <td>0.020</td>\n",
              "    </tr>\n",
              "    <tr>\n",
              "      <th>2690</th>\n",
              "      <td>Guatemala</td>\n",
              "      <td>The Americas</td>\n",
              "      <td>01/12/2012</td>\n",
              "      <td>15082831</td>\n",
              "      <td>5.038845e+10</td>\n",
              "      <td>NaN</td>\n",
              "      <td>NaN</td>\n",
              "      <td>71.5</td>\n",
              "      <td>0.027</td>\n",
              "    </tr>\n",
              "  </tbody>\n",
              "</table>\n",
              "<p>2691 rows × 9 columns</p>\n",
              "</div>\n",
              "      <button class=\"colab-df-convert\" onclick=\"convertToInteractive('df-5a16d5c4-bc07-4d8d-b309-952acc6b09b1')\"\n",
              "              title=\"Convert this dataframe to an interactive table.\"\n",
              "              style=\"display:none;\">\n",
              "\n",
              "  <svg xmlns=\"http://www.w3.org/2000/svg\" height=\"24px\"viewBox=\"0 0 24 24\"\n",
              "       width=\"24px\">\n",
              "    <path d=\"M0 0h24v24H0V0z\" fill=\"none\"/>\n",
              "    <path d=\"M18.56 5.44l.94 2.06.94-2.06 2.06-.94-2.06-.94-.94-2.06-.94 2.06-2.06.94zm-11 1L8.5 8.5l.94-2.06 2.06-.94-2.06-.94L8.5 2.5l-.94 2.06-2.06.94zm10 10l.94 2.06.94-2.06 2.06-.94-2.06-.94-.94-2.06-.94 2.06-2.06.94z\"/><path d=\"M17.41 7.96l-1.37-1.37c-.4-.4-.92-.59-1.43-.59-.52 0-1.04.2-1.43.59L10.3 9.45l-7.72 7.72c-.78.78-.78 2.05 0 2.83L4 21.41c.39.39.9.59 1.41.59.51 0 1.02-.2 1.41-.59l7.78-7.78 2.81-2.81c.8-.78.8-2.07 0-2.86zM5.41 20L4 18.59l7.72-7.72 1.47 1.35L5.41 20z\"/>\n",
              "  </svg>\n",
              "      </button>\n",
              "\n",
              "\n",
              "\n",
              "    <div id=\"df-05cbadee-e99e-422f-acc0-5d8e85946e18\">\n",
              "      <button class=\"colab-df-quickchart\" onclick=\"quickchart('df-05cbadee-e99e-422f-acc0-5d8e85946e18')\"\n",
              "              title=\"Suggest charts.\"\n",
              "              style=\"display:none;\">\n",
              "\n",
              "<svg xmlns=\"http://www.w3.org/2000/svg\" height=\"24px\"viewBox=\"0 0 24 24\"\n",
              "     width=\"24px\">\n",
              "    <g>\n",
              "        <path d=\"M19 3H5c-1.1 0-2 .9-2 2v14c0 1.1.9 2 2 2h14c1.1 0 2-.9 2-2V5c0-1.1-.9-2-2-2zM9 17H7v-7h2v7zm4 0h-2V7h2v10zm4 0h-2v-4h2v4z\"/>\n",
              "    </g>\n",
              "</svg>\n",
              "      </button>\n",
              "    </div>\n",
              "\n",
              "<style>\n",
              "  .colab-df-quickchart {\n",
              "    background-color: #E8F0FE;\n",
              "    border: none;\n",
              "    border-radius: 50%;\n",
              "    cursor: pointer;\n",
              "    display: none;\n",
              "    fill: #1967D2;\n",
              "    height: 32px;\n",
              "    padding: 0 0 0 0;\n",
              "    width: 32px;\n",
              "  }\n",
              "\n",
              "  .colab-df-quickchart:hover {\n",
              "    background-color: #E2EBFA;\n",
              "    box-shadow: 0px 1px 2px rgba(60, 64, 67, 0.3), 0px 1px 3px 1px rgba(60, 64, 67, 0.15);\n",
              "    fill: #174EA6;\n",
              "  }\n",
              "\n",
              "  [theme=dark] .colab-df-quickchart {\n",
              "    background-color: #3B4455;\n",
              "    fill: #D2E3FC;\n",
              "  }\n",
              "\n",
              "  [theme=dark] .colab-df-quickchart:hover {\n",
              "    background-color: #434B5C;\n",
              "    box-shadow: 0px 1px 3px 1px rgba(0, 0, 0, 0.15);\n",
              "    filter: drop-shadow(0px 1px 2px rgba(0, 0, 0, 0.3));\n",
              "    fill: #FFFFFF;\n",
              "  }\n",
              "</style>\n",
              "\n",
              "    <script>\n",
              "      async function quickchart(key) {\n",
              "        const containerElement = document.querySelector('#' + key);\n",
              "        const charts = await google.colab.kernel.invokeFunction(\n",
              "            'suggestCharts', [key], {});\n",
              "      }\n",
              "    </script>\n",
              "\n",
              "      <script>\n",
              "\n",
              "function displayQuickchartButton(domScope) {\n",
              "  let quickchartButtonEl =\n",
              "    domScope.querySelector('#df-05cbadee-e99e-422f-acc0-5d8e85946e18 button.colab-df-quickchart');\n",
              "  quickchartButtonEl.style.display =\n",
              "    google.colab.kernel.accessAllowed ? 'block' : 'none';\n",
              "}\n",
              "\n",
              "        displayQuickchartButton(document);\n",
              "      </script>\n",
              "      <style>\n",
              "    .colab-df-container {\n",
              "      display:flex;\n",
              "      flex-wrap:wrap;\n",
              "      gap: 12px;\n",
              "    }\n",
              "\n",
              "    .colab-df-convert {\n",
              "      background-color: #E8F0FE;\n",
              "      border: none;\n",
              "      border-radius: 50%;\n",
              "      cursor: pointer;\n",
              "      display: none;\n",
              "      fill: #1967D2;\n",
              "      height: 32px;\n",
              "      padding: 0 0 0 0;\n",
              "      width: 32px;\n",
              "    }\n",
              "\n",
              "    .colab-df-convert:hover {\n",
              "      background-color: #E2EBFA;\n",
              "      box-shadow: 0px 1px 2px rgba(60, 64, 67, 0.3), 0px 1px 3px 1px rgba(60, 64, 67, 0.15);\n",
              "      fill: #174EA6;\n",
              "    }\n",
              "\n",
              "    [theme=dark] .colab-df-convert {\n",
              "      background-color: #3B4455;\n",
              "      fill: #D2E3FC;\n",
              "    }\n",
              "\n",
              "    [theme=dark] .colab-df-convert:hover {\n",
              "      background-color: #434B5C;\n",
              "      box-shadow: 0px 1px 3px 1px rgba(0, 0, 0, 0.15);\n",
              "      filter: drop-shadow(0px 1px 2px rgba(0, 0, 0, 0.3));\n",
              "      fill: #FFFFFF;\n",
              "    }\n",
              "  </style>\n",
              "\n",
              "      <script>\n",
              "        const buttonEl =\n",
              "          document.querySelector('#df-5a16d5c4-bc07-4d8d-b309-952acc6b09b1 button.colab-df-convert');\n",
              "        buttonEl.style.display =\n",
              "          google.colab.kernel.accessAllowed ? 'block' : 'none';\n",
              "\n",
              "        async function convertToInteractive(key) {\n",
              "          const element = document.querySelector('#df-5a16d5c4-bc07-4d8d-b309-952acc6b09b1');\n",
              "          const dataTable =\n",
              "            await google.colab.kernel.invokeFunction('convertToInteractive',\n",
              "                                                     [key], {});\n",
              "          if (!dataTable) return;\n",
              "\n",
              "          const docLinkHtml = 'Like what you see? Visit the ' +\n",
              "            '<a target=\"_blank\" href=https://colab.research.google.com/notebooks/data_table.ipynb>data table notebook</a>'\n",
              "            + ' to learn more about interactive tables.';\n",
              "          element.innerHTML = '';\n",
              "          dataTable['output_type'] = 'display_data';\n",
              "          await google.colab.output.renderOutput(dataTable, element);\n",
              "          const docLink = document.createElement('div');\n",
              "          docLink.innerHTML = docLinkHtml;\n",
              "          element.appendChild(docLink);\n",
              "        }\n",
              "      </script>\n",
              "    </div>\n",
              "  </div>\n"
            ]
          },
          "metadata": {},
          "execution_count": 3
        }
      ]
    },
    {
      "cell_type": "markdown",
      "source": [
        "GDP = Gross domestic product"
      ],
      "metadata": {
        "id": "thp31r81eeSQ"
      }
    },
    {
      "cell_type": "markdown",
      "source": [
        "## Preliminary analysis"
      ],
      "metadata": {
        "id": "6R-mZ1rle3yI"
      }
    },
    {
      "cell_type": "markdown",
      "source": [
        "We use the `.info()` method to explore the variables included in the DataFrame and any missing values:"
      ],
      "metadata": {
        "id": "40WP4mn6e560"
      }
    },
    {
      "cell_type": "code",
      "source": [
        "df.info()"
      ],
      "metadata": {
        "colab": {
          "base_uri": "https://localhost:8080/"
        },
        "id": "o6ZqmwBbe7qA",
        "outputId": "e2e2ccdc-8028-4cde-ab43-f57ca8e52c6c"
      },
      "execution_count": 4,
      "outputs": [
        {
          "output_type": "stream",
          "name": "stdout",
          "text": [
            "<class 'pandas.core.frame.DataFrame'>\n",
            "RangeIndex: 2691 entries, 0 to 2690\n",
            "Data columns (total 9 columns):\n",
            " #   Column                 Non-Null Count  Dtype  \n",
            "---  ------                 --------------  -----  \n",
            " 0   Country/Region         2691 non-null   object \n",
            " 1   Region                 2691 non-null   object \n",
            " 2   Year                   2691 non-null   object \n",
            " 3   Population Total       2691 non-null   int64  \n",
            " 4   GDP                    2494 non-null   float64\n",
            " 5   CO2 Emissions          2125 non-null   float64\n",
            " 6   Energy Usage           1785 non-null   float64\n",
            " 7   Life Expectancy        2555 non-null   float64\n",
            " 8   Infant Mortality Rate  2444 non-null   float64\n",
            "dtypes: float64(5), int64(1), object(3)\n",
            "memory usage: 189.3+ KB\n"
          ]
        }
      ]
    },
    {
      "cell_type": "markdown",
      "source": [
        "The first three variables are strings (object), the fourth is composed of integer values (int) and the other five are composed of real values (float)."
      ],
      "metadata": {
        "id": "kdqsotdXfUop"
      }
    },
    {
      "cell_type": "markdown",
      "source": [
        "We note that most of the numeric variables (except for `Population Total`), contain missing values, in particular `Energy Usage` is **the variable with the highest number of null values** (1785 out of 2691, about 66%) and therefore lends itself as an excellent candidate for our linear regression exercise."
      ],
      "metadata": {
        "id": "-oKBYdMPfAlE"
      }
    },
    {
      "cell_type": "markdown",
      "source": [
        "## Missing values"
      ],
      "metadata": {
        "id": "XbxZWq5wfDIK"
      }
    },
    {
      "cell_type": "markdown",
      "source": [
        "When we encounter missing values, there are actually three things we can do to address the problem:\n",
        "\n",
        "* leave the missing value where it is\n",
        "* delete the remark (i.e. the whole line) - Only when multiple records (information) on multiple variables are missing.\n",
        "* **insert another value in place of the null one**\n",
        "\n",
        "This last option can be addressed by following different paths:\n",
        "\n",
        "* enter a predetermined value (for example 0)\n",
        "* enter a global average value (for example the average of the variable)\n",
        "* enter the average value of the last \"n\" observations (in case there is a time link between the observations of the variable)\n",
        "* interpolation of the data\n",
        "* **regression**\n",
        "\n",
        "We will focus on the latter technique, which is certainly the most complex but also the most interesting and is the basis of statistical learning algorithms (machine learning)."
      ],
      "metadata": {
        "id": "WQ9DutoJgIcG"
      }
    },
    {
      "cell_type": "markdown",
      "source": [
        "## Relationship between variables"
      ],
      "metadata": {
        "id": "h9ZCHALOgNtn"
      }
    },
    {
      "cell_type": "markdown",
      "source": [
        "From what we said above, our goal will be to predict the missing values of the variable `Energy Usage` using the other data available to us.\n",
        "\n",
        ">✨ In order to use one variable to predict another, there must be a strong relationship (**correlation**) between these two.\n",
        "\n",
        "One way to graphically verify the existence of a relationship between two variables is with a scatterplot (or **scatterplot**); let's see for example the relationship between `Energy Usage` ([measured](https://databank.worldbank.org/metadataglossary/world-development-indicators/series/EG.USE.PCAP.KG.OE) in thousands of tons) and `CO2 Emissions` ([measured](https://databank.worldbank.org/metadataglossary/millennium-development-goals/series/EN.ATM.CO2E.KT) in kilotons):"
      ],
      "metadata": {
        "id": "cuhOv6V1giWQ"
      }
    },
    {
      "cell_type": "code",
      "source": [
        "sns.scatterplot(data=df, x='CO2 Emissions', y='Energy Usage')\n",
        "plt.show() # delete the string: <Axes: xlabel='CO2 Emissions', ylabel='Energy Usage'>"
      ],
      "metadata": {
        "colab": {
          "base_uri": "https://localhost:8080/",
          "height": 465
        },
        "id": "H2M359P2gnoT",
        "outputId": "0b7c9b66-42ed-4e4c-8964-3c4fdf09045a"
      },
      "execution_count": 8,
      "outputs": [
        {
          "output_type": "display_data",
          "data": {
            "text/plain": [
              "<Figure size 640x480 with 1 Axes>"
            ],
            "image/png": "[encoded data removed]"
          },
          "metadata": {}
        }
      ]
    },
    {
      "cell_type": "markdown",
      "source": [
        "From the scatterplot we see that there is a **strong direct linear relationship** between the two variables, in fact we note that as one increases, the other also increases proportionally. We could therefore think of **building a model** (actually an equation) which, given one variable, is able to predict the second."
      ],
      "metadata": {
        "id": "1ejnEcyVgw4S"
      }
    },
    {
      "cell_type": "markdown",
      "source": [
        "## Distribution of null values"
      ],
      "metadata": {
        "id": "iWh92fVOkXMI"
      }
    },
    {
      "cell_type": "markdown",
      "source": [
        "Let's look at the distribution of null values between the two variables, using the `.isna()` and `.notna()` methods:"
      ],
      "metadata": {
        "id": "z1UMh4WukZIm"
      }
    },
    {
      "cell_type": "code",
      "source": [
        "df['CO2 Emissions'].isna()"
      ],
      "metadata": {
        "colab": {
          "base_uri": "https://localhost:8080/"
        },
        "id": "dfnMePDYke5w",
        "outputId": "c2e4284b-27b3-4bc8-c927-d66e2d07f3fd"
      },
      "execution_count": 10,
      "outputs": [
        {
          "output_type": "execute_result",
          "data": {
            "text/plain": [
              "0       False\n",
              "1       False\n",
              "2       False\n",
              "3       False\n",
              "4       False\n",
              "        ...  \n",
              "2686     True\n",
              "2687     True\n",
              "2688     True\n",
              "2689     True\n",
              "2690     True\n",
              "Name: CO2 Emissions, Length: 2691, dtype: bool"
            ]
          },
          "metadata": {},
          "execution_count": 10
        }
      ]
    },
    {
      "cell_type": "markdown",
      "source": [
        "`isna()` returns a boolean vector True False"
      ],
      "metadata": {
        "id": "j13ixYEdkv7d"
      }
    },
    {
      "cell_type": "markdown",
      "source": [
        "Slicing is now applied to obtain the cases where the vector has only True values:"
      ],
      "metadata": {
        "id": "RGOHx5YRk35j"
      }
    },
    {
      "cell_type": "code",
      "source": [
        "df[df['CO2 Emissions'].isna()].shape[0]"
      ],
      "metadata": {
        "colab": {
          "base_uri": "https://localhost:8080/"
        },
        "id": "j5K0ciD2lQkh",
        "outputId": "c573d3df-178c-4e30-d9de-a52aa748ee15"
      },
      "execution_count": 12,
      "outputs": [
        {
          "output_type": "execute_result",
          "data": {
            "text/plain": [
              "566"
            ]
          },
          "metadata": {},
          "execution_count": 12
        }
      ]
    },
    {
      "cell_type": "markdown",
      "source": [
        "There are 566 missing values in the 'CO2 Emissions' column"
      ],
      "metadata": {
        "id": "SoWepFHUl4WI"
      }
    },
    {
      "cell_type": "markdown",
      "source": [
        "> `.shape()` it is used to select the number of rows."
      ],
      "metadata": {
        "id": "eaFKZwcSlcg4"
      }
    },
    {
      "cell_type": "markdown",
      "source": [
        "We want to check where both the variables `CO2 Emissions `and  `Energy Usage`  are null, we use the boolean operator AND (&):\n",
        "> `df[ (1st condiction) & (2nd condiction) ]`"
      ],
      "metadata": {
        "id": "j2pCKRwBmFro"
      }
    },
    {
      "cell_type": "code",
      "source": [
        "df[df['CO2 Emissions'].isna() & df['Energy Usage'].isna()].shape[0]"
      ],
      "metadata": {
        "colab": {
          "base_uri": "https://localhost:8080/"
        },
        "id": "a4760MVIlsrE",
        "outputId": "d617b001-3b70-4ee2-aaad-c3996b2c9b54"
      },
      "execution_count": 13,
      "outputs": [
        {
          "output_type": "execute_result",
          "data": {
            "text/plain": [
              "376"
            ]
          },
          "metadata": {},
          "execution_count": 13
        }
      ]
    },
    {
      "cell_type": "markdown",
      "source": [],
      "metadata": {
        "id": "srgQ52EpsaDE"
      }
    },
    {
      "cell_type": "markdown",
      "source": [
        "There are 376 observations in which both variables have null values."
      ],
      "metadata": {
        "id": "BNvqxjHanTRF"
      }
    },
    {
      "cell_type": "markdown",
      "source": [
        "Now it is good to visualize all the combinations between the two variables relative to the null values:\n",
        "\n",
        "* Both have null values `df['CO2 Emissions'].isna() & df['Energy Usage'].isna()`\n",
        "* Only 'CO2 Emissions' has null values `df['CO2 Emissions'].notna()`\n",
        "* Only 'Energy Usage' has null values `df['Energy Usage'].notna()`\n",
        "* Both have no null values `df['CO2 Emissions'].notna() & df['Energy Usage'].notna()`"
      ],
      "metadata": {
        "id": "7vNJICuCoagG"
      }
    },
    {
      "cell_type": "code",
      "source": [
        "print(f\"Both have null values: {df[df['CO2 Emissions'].isna() & df['Energy Usage'].isna()].shape[0]}\")\n",
        "print(f\"Only 'CO2 Emissions' has null values: {df[df['CO2 Emissions'].isna() & df['Energy Usage'].notna()].shape[0]}\")\n",
        "print(f\"Only 'Energy Usage' has null values: {df[df['CO2 Emissions'].notna() & df['Energy Usage'].isna()].shape[0]}\")\n",
        "print(f\"Both have no null values: {df[df['CO2 Emissions'].notna() & df['Energy Usage'].notna()].shape[0]}\")"
      ],
      "metadata": {
        "colab": {
          "base_uri": "https://localhost:8080/"
        },
        "id": "xgt73u71oDZF",
        "outputId": "3dbbd5bd-44e7-424d-de0a-339275ea29d6"
      },
      "execution_count": 16,
      "outputs": [
        {
          "output_type": "stream",
          "name": "stdout",
          "text": [
            "Both have null values: 376\n",
            "Only 'CO2 Emissions' has null values: 190\n",
            "Only 'Energy Usage' has null values: 530\n",
            "Both have no null values: 1595\n"
          ]
        }
      ]
    },
    {
      "cell_type": "markdown",
      "source": [
        "To represent the null value information above in a double-entry table."
      ],
      "metadata": {
        "id": "LVveqFOftRbQ"
      }
    },
    {
      "cell_type": "code",
      "source": [
        "co2_nrg_00 = df[df['CO2 Emissions'].isna() & df['Energy Usage'].isna()].shape[0]\n",
        "co2_nrg_10 = df[df['CO2 Emissions'].notna() & df['Energy Usage'].isna()].shape[0]\n",
        "co2_nrg_01 = df[df['CO2 Emissions'].isna() & df['Energy Usage'].notna()].shape[0]\n",
        "co2_nrg_11 = df[df['CO2 Emissions'].notna() & df['Energy Usage'].notna()].shape[0]\n",
        "pd.DataFrame([[co2_nrg_00, co2_nrg_10],\n",
        "              [co2_nrg_01, co2_nrg_11]],\n",
        "    columns=[['CO2', 'CO2'],\n",
        "             ['null','not-null']],\n",
        "    index=[['Energy', 'Energy'],\n",
        "           ['null','not-null']]\n",
        ")"
      ],
      "metadata": {
        "colab": {
          "base_uri": "https://localhost:8080/",
          "height": 143
        },
        "id": "H-V2L-uTtF0S",
        "outputId": "dc5984e8-2238-4ab5-89da-f1bb983d7ed1"
      },
      "execution_count": 23,
      "outputs": [
        {
          "output_type": "execute_result",
          "data": {
            "text/plain": [
              "                 CO2         \n",
              "                null not-null\n",
              "Energy null      376      530\n",
              "       not-null  190     1595"
            ],
            "text/html": [
              "\n",
              "\n",
              "  <div id=\"df-a35f79bc-cdc2-4d81-9483-d376c8d8a853\">\n",
              "    <div class=\"colab-df-container\">\n",
              "      <div>\n",
              "<style scoped>\n",
              "    .dataframe tbody tr th:only-of-type {\n",
              "        vertical-align: middle;\n",
              "    }\n",
              "\n",
              "    .dataframe tbody tr th {\n",
              "        vertical-align: top;\n",
              "    }\n",
              "\n",
              "    .dataframe thead tr th {\n",
              "        text-align: left;\n",
              "    }\n",
              "</style>\n",
              "<table border=\"1\" class=\"dataframe\">\n",
              "  <thead>\n",
              "    <tr>\n",
              "      <th></th>\n",
              "      <th></th>\n",
              "      <th colspan=\"2\" halign=\"left\">CO2</th>\n",
              "    </tr>\n",
              "    <tr>\n",
              "      <th></th>\n",
              "      <th></th>\n",
              "      <th>null</th>\n",
              "      <th>not-null</th>\n",
              "    </tr>\n",
              "  </thead>\n",
              "  <tbody>\n",
              "    <tr>\n",
              "      <th rowspan=\"2\" valign=\"top\">Energy</th>\n",
              "      <th>null</th>\n",
              "      <td>376</td>\n",
              "      <td>530</td>\n",
              "    </tr>\n",
              "    <tr>\n",
              "      <th>not-null</th>\n",
              "      <td>190</td>\n",
              "      <td>1595</td>\n",
              "    </tr>\n",
              "  </tbody>\n",
              "</table>\n",
              "</div>\n",
              "      <button class=\"colab-df-convert\" onclick=\"convertToInteractive('df-a35f79bc-cdc2-4d81-9483-d376c8d8a853')\"\n",
              "              title=\"Convert this dataframe to an interactive table.\"\n",
              "              style=\"display:none;\">\n",
              "\n",
              "  <svg xmlns=\"http://www.w3.org/2000/svg\" height=\"24px\"viewBox=\"0 0 24 24\"\n",
              "       width=\"24px\">\n",
              "    <path d=\"M0 0h24v24H0V0z\" fill=\"none\"/>\n",
              "    <path d=\"M18.56 5.44l.94 2.06.94-2.06 2.06-.94-2.06-.94-.94-2.06-.94 2.06-2.06.94zm-11 1L8.5 8.5l.94-2.06 2.06-.94-2.06-.94L8.5 2.5l-.94 2.06-2.06.94zm10 10l.94 2.06.94-2.06 2.06-.94-2.06-.94-.94-2.06-.94 2.06-2.06.94z\"/><path d=\"M17.41 7.96l-1.37-1.37c-.4-.4-.92-.59-1.43-.59-.52 0-1.04.2-1.43.59L10.3 9.45l-7.72 7.72c-.78.78-.78 2.05 0 2.83L4 21.41c.39.39.9.59 1.41.59.51 0 1.02-.2 1.41-.59l7.78-7.78 2.81-2.81c.8-.78.8-2.07 0-2.86zM5.41 20L4 18.59l7.72-7.72 1.47 1.35L5.41 20z\"/>\n",
              "  </svg>\n",
              "      </button>\n",
              "\n",
              "\n",
              "\n",
              "    <div id=\"df-9d7b1277-ed1a-4b9b-b71e-ab06304db205\">\n",
              "      <button class=\"colab-df-quickchart\" onclick=\"quickchart('df-9d7b1277-ed1a-4b9b-b71e-ab06304db205')\"\n",
              "              title=\"Suggest charts.\"\n",
              "              style=\"display:none;\">\n",
              "\n",
              "<svg xmlns=\"http://www.w3.org/2000/svg\" height=\"24px\"viewBox=\"0 0 24 24\"\n",
              "     width=\"24px\">\n",
              "    <g>\n",
              "        <path d=\"M19 3H5c-1.1 0-2 .9-2 2v14c0 1.1.9 2 2 2h14c1.1 0 2-.9 2-2V5c0-1.1-.9-2-2-2zM9 17H7v-7h2v7zm4 0h-2V7h2v10zm4 0h-2v-4h2v4z\"/>\n",
              "    </g>\n",
              "</svg>\n",
              "      </button>\n",
              "    </div>\n",
              "\n",
              "<style>\n",
              "  .colab-df-quickchart {\n",
              "    background-color: #E8F0FE;\n",
              "    border: none;\n",
              "    border-radius: 50%;\n",
              "    cursor: pointer;\n",
              "    display: none;\n",
              "    fill: #1967D2;\n",
              "    height: 32px;\n",
              "    padding: 0 0 0 0;\n",
              "    width: 32px;\n",
              "  }\n",
              "\n",
              "  .colab-df-quickchart:hover {\n",
              "    background-color: #E2EBFA;\n",
              "    box-shadow: 0px 1px 2px rgba(60, 64, 67, 0.3), 0px 1px 3px 1px rgba(60, 64, 67, 0.15);\n",
              "    fill: #174EA6;\n",
              "  }\n",
              "\n",
              "  [theme=dark] .colab-df-quickchart {\n",
              "    background-color: #3B4455;\n",
              "    fill: #D2E3FC;\n",
              "  }\n",
              "\n",
              "  [theme=dark] .colab-df-quickchart:hover {\n",
              "    background-color: #434B5C;\n",
              "    box-shadow: 0px 1px 3px 1px rgba(0, 0, 0, 0.15);\n",
              "    filter: drop-shadow(0px 1px 2px rgba(0, 0, 0, 0.3));\n",
              "    fill: #FFFFFF;\n",
              "  }\n",
              "</style>\n",
              "\n",
              "    <script>\n",
              "      async function quickchart(key) {\n",
              "        const containerElement = document.querySelector('#' + key);\n",
              "        const charts = await google.colab.kernel.invokeFunction(\n",
              "            'suggestCharts', [key], {});\n",
              "      }\n",
              "    </script>\n",
              "\n",
              "      <script>\n",
              "\n",
              "function displayQuickchartButton(domScope) {\n",
              "  let quickchartButtonEl =\n",
              "    domScope.querySelector('#df-9d7b1277-ed1a-4b9b-b71e-ab06304db205 button.colab-df-quickchart');\n",
              "  quickchartButtonEl.style.display =\n",
              "    google.colab.kernel.accessAllowed ? 'block' : 'none';\n",
              "}\n",
              "\n",
              "        displayQuickchartButton(document);\n",
              "      </script>\n",
              "      <style>\n",
              "    .colab-df-container {\n",
              "      display:flex;\n",
              "      flex-wrap:wrap;\n",
              "      gap: 12px;\n",
              "    }\n",
              "\n",
              "    .colab-df-convert {\n",
              "      background-color: #E8F0FE;\n",
              "      border: none;\n",
              "      border-radius: 50%;\n",
              "      cursor: pointer;\n",
              "      display: none;\n",
              "      fill: #1967D2;\n",
              "      height: 32px;\n",
              "      padding: 0 0 0 0;\n",
              "      width: 32px;\n",
              "    }\n",
              "\n",
              "    .colab-df-convert:hover {\n",
              "      background-color: #E2EBFA;\n",
              "      box-shadow: 0px 1px 2px rgba(60, 64, 67, 0.3), 0px 1px 3px 1px rgba(60, 64, 67, 0.15);\n",
              "      fill: #174EA6;\n",
              "    }\n",
              "\n",
              "    [theme=dark] .colab-df-convert {\n",
              "      background-color: #3B4455;\n",
              "      fill: #D2E3FC;\n",
              "    }\n",
              "\n",
              "    [theme=dark] .colab-df-convert:hover {\n",
              "      background-color: #434B5C;\n",
              "      box-shadow: 0px 1px 3px 1px rgba(0, 0, 0, 0.15);\n",
              "      filter: drop-shadow(0px 1px 2px rgba(0, 0, 0, 0.3));\n",
              "      fill: #FFFFFF;\n",
              "    }\n",
              "  </style>\n",
              "\n",
              "      <script>\n",
              "        const buttonEl =\n",
              "          document.querySelector('#df-a35f79bc-cdc2-4d81-9483-d376c8d8a853 button.colab-df-convert');\n",
              "        buttonEl.style.display =\n",
              "          google.colab.kernel.accessAllowed ? 'block' : 'none';\n",
              "\n",
              "        async function convertToInteractive(key) {\n",
              "          const element = document.querySelector('#df-a35f79bc-cdc2-4d81-9483-d376c8d8a853');\n",
              "          const dataTable =\n",
              "            await google.colab.kernel.invokeFunction('convertToInteractive',\n",
              "                                                     [key], {});\n",
              "          if (!dataTable) return;\n",
              "\n",
              "          const docLinkHtml = 'Like what you see? Visit the ' +\n",
              "            '<a target=\"_blank\" href=https://colab.research.google.com/notebooks/data_table.ipynb>data table notebook</a>'\n",
              "            + ' to learn more about interactive tables.';\n",
              "          element.innerHTML = '';\n",
              "          dataTable['output_type'] = 'display_data';\n",
              "          await google.colab.output.renderOutput(dataTable, element);\n",
              "          const docLink = document.createElement('div');\n",
              "          docLink.innerHTML = docLinkHtml;\n",
              "          element.appendChild(docLink);\n",
              "        }\n",
              "      </script>\n",
              "    </div>\n",
              "  </div>\n"
            ]
          },
          "metadata": {},
          "execution_count": 23
        }
      ]
    },
    {
      "cell_type": "markdown",
      "source": [
        "-----------------------------------------------------------------------------"
      ],
      "metadata": {
        "id": "V18CZckZuoFs"
      }
    },
    {
      "cell_type": "markdown",
      "source": [
        "> ⭐🚀 Experiment"
      ],
      "metadata": {
        "id": "-71TOBa0phw0"
      }
    },
    {
      "cell_type": "code",
      "source": [
        "from tabulate import tabulate\n",
        "\n",
        "columns_to_check = ['CO2 Emissions', 'Energy Usage']\n",
        "\n",
        "table_data = []\n",
        "header = ['Columns', 'Status', 'Count']\n",
        "\n",
        "for column1 in columns_to_check:\n",
        "    for column2 in columns_to_check:\n",
        "        if column1 == 'CO2 Emissions' and column2 == 'Energy Usage':\n",
        "            status = 'Both'\n",
        "            count = df[df[column1].isna() & df[column2].isna()].shape[0]\n",
        "        elif column1 == 'CO2 Emissions':\n",
        "            status = 'Only Energy Usage'\n",
        "            count = df[df[column1].isna() & df[column2].notna()].shape[0]\n",
        "        elif column2 == 'Energy Usage':\n",
        "            status = 'Only CO2 Emissions'\n",
        "            count = df[df[column1].notna() & df[column2].isna()].shape[0]\n",
        "        else:\n",
        "            status = 'Both not null'\n",
        "            count = df[df[column1].notna() & df[column2].notna()].shape[0]\n",
        "\n",
        "        table_data.append([column1, column2, status, count])\n",
        "\n",
        "table = tabulate(table_data, headers=header, tablefmt=\"grid\")\n",
        "print(table)\n"
      ],
      "metadata": {
        "colab": {
          "base_uri": "https://localhost:8080/"
        },
        "id": "d8v_nGTEuI0g",
        "outputId": "f6d07a1f-c6e2-41d0-c5dd-f3e975d30c7c"
      },
      "execution_count": 25,
      "outputs": [
        {
          "output_type": "stream",
          "name": "stdout",
          "text": [
            "+---------------+---------------+--------------------+---------+\n",
            "|               | Columns       | Status             |   Count |\n",
            "+===============+===============+====================+=========+\n",
            "| CO2 Emissions | CO2 Emissions | Only Energy Usage  |       0 |\n",
            "+---------------+---------------+--------------------+---------+\n",
            "| CO2 Emissions | Energy Usage  | Both               |     376 |\n",
            "+---------------+---------------+--------------------+---------+\n",
            "| Energy Usage  | CO2 Emissions | Both not null      |    1595 |\n",
            "+---------------+---------------+--------------------+---------+\n",
            "| Energy Usage  | Energy Usage  | Only CO2 Emissions |       0 |\n",
            "+---------------+---------------+--------------------+---------+\n"
          ]
        }
      ]
    },
    {
      "cell_type": "markdown",
      "source": [
        "-----------------------------------------------------------------------------"
      ],
      "metadata": {
        "id": "g-qYXH6LuXvz"
      }
    },
    {
      "cell_type": "markdown",
      "source": [
        "From the mirror that we have built above, we note that there are:\n",
        "- 1595 observations in which the value of both variables is available;\n",
        "- 530 observations in which the value of `Energy Usage` is not there, but that of `CO2 Emissions` is.\n",
        "\n",
        "> The goal is to build a **regression model** using the 1595 observations available for both variables and then use this model to **predict** the missing values of `Energy Usage` with the 530 **data* * available of `CO2 Emissions`."
      ],
      "metadata": {
        "id": "-aDjf1fium3O"
      }
    },
    {
      "cell_type": "markdown",
      "source": [
        "We create a new dataframe where, thanks to the `.dropna()` method, we remove all the rows that have even just one missing value; in this way we obtain the following dataset which does not contain null values and with which we will estimate a linear regression model:"
      ],
      "metadata": {
        "id": "Fv4-zgKjuxZU"
      }
    },
    {
      "cell_type": "code",
      "source": [
        "df_reg = df[['Country/Region', 'Region', 'Year', 'CO2 Emissions', 'Energy Usage']].dropna(how='any')\n",
        "df_reg"
      ],
      "metadata": {
        "colab": {
          "base_uri": "https://localhost:8080/",
          "height": 423
        },
        "id": "jOOcuAA2u1af",
        "outputId": "fb55edd8-b8de-4680-d196-faf9f758f8e7"
      },
      "execution_count": 26,
      "outputs": [
        {
          "output_type": "execute_result",
          "data": {
            "text/plain": [
              "     Country/Region        Region        Year  CO2 Emissions  Energy Usage\n",
              "0           Algeria        Africa  01/12/2000        87931.0       26998.0\n",
              "1            Angola        Africa  01/12/2000         9542.0        7499.0\n",
              "2             Benin        Africa  01/12/2000         1617.0        1983.0\n",
              "3          Botswana        Africa  01/12/2000         4276.0        1836.0\n",
              "6          Cameroon        Africa  01/12/2000         3432.0        6310.0\n",
              "...             ...           ...         ...            ...           ...\n",
              "2598      Nicaragua  The Americas  01/12/2010         4547.0        2951.0\n",
              "2599        Bolivia  The Americas  01/12/2010        15456.0        7341.0\n",
              "2600          Haiti  The Americas  01/12/2010         2120.0        2409.0\n",
              "2601       Honduras  The Americas  01/12/2010         8108.0        4567.0\n",
              "2602      Guatemala  The Americas  01/12/2010        11118.0       10251.0\n",
              "\n",
              "[1595 rows x 5 columns]"
            ],
            "text/html": [
              "\n",
              "\n",
              "  <div id=\"df-353a513d-d301-483d-b042-56df4b76c277\">\n",
              "    <div class=\"colab-df-container\">\n",
              "      <div>\n",
              "<style scoped>\n",
              "    .dataframe tbody tr th:only-of-type {\n",
              "        vertical-align: middle;\n",
              "    }\n",
              "\n",
              "    .dataframe tbody tr th {\n",
              "        vertical-align: top;\n",
              "    }\n",
              "\n",
              "    .dataframe thead th {\n",
              "        text-align: right;\n",
              "    }\n",
              "</style>\n",
              "<table border=\"1\" class=\"dataframe\">\n",
              "  <thead>\n",
              "    <tr style=\"text-align: right;\">\n",
              "      <th></th>\n",
              "      <th>Country/Region</th>\n",
              "      <th>Region</th>\n",
              "      <th>Year</th>\n",
              "      <th>CO2 Emissions</th>\n",
              "      <th>Energy Usage</th>\n",
              "    </tr>\n",
              "  </thead>\n",
              "  <tbody>\n",
              "    <tr>\n",
              "      <th>0</th>\n",
              "      <td>Algeria</td>\n",
              "      <td>Africa</td>\n",
              "      <td>01/12/2000</td>\n",
              "      <td>87931.0</td>\n",
              "      <td>26998.0</td>\n",
              "    </tr>\n",
              "    <tr>\n",
              "      <th>1</th>\n",
              "      <td>Angola</td>\n",
              "      <td>Africa</td>\n",
              "      <td>01/12/2000</td>\n",
              "      <td>9542.0</td>\n",
              "      <td>7499.0</td>\n",
              "    </tr>\n",
              "    <tr>\n",
              "      <th>2</th>\n",
              "      <td>Benin</td>\n",
              "      <td>Africa</td>\n",
              "      <td>01/12/2000</td>\n",
              "      <td>1617.0</td>\n",
              "      <td>1983.0</td>\n",
              "    </tr>\n",
              "    <tr>\n",
              "      <th>3</th>\n",
              "      <td>Botswana</td>\n",
              "      <td>Africa</td>\n",
              "      <td>01/12/2000</td>\n",
              "      <td>4276.0</td>\n",
              "      <td>1836.0</td>\n",
              "    </tr>\n",
              "    <tr>\n",
              "      <th>6</th>\n",
              "      <td>Cameroon</td>\n",
              "      <td>Africa</td>\n",
              "      <td>01/12/2000</td>\n",
              "      <td>3432.0</td>\n",
              "      <td>6310.0</td>\n",
              "    </tr>\n",
              "    <tr>\n",
              "      <th>...</th>\n",
              "      <td>...</td>\n",
              "      <td>...</td>\n",
              "      <td>...</td>\n",
              "      <td>...</td>\n",
              "      <td>...</td>\n",
              "    </tr>\n",
              "    <tr>\n",
              "      <th>2598</th>\n",
              "      <td>Nicaragua</td>\n",
              "      <td>The Americas</td>\n",
              "      <td>01/12/2010</td>\n",
              "      <td>4547.0</td>\n",
              "      <td>2951.0</td>\n",
              "    </tr>\n",
              "    <tr>\n",
              "      <th>2599</th>\n",
              "      <td>Bolivia</td>\n",
              "      <td>The Americas</td>\n",
              "      <td>01/12/2010</td>\n",
              "      <td>15456.0</td>\n",
              "      <td>7341.0</td>\n",
              "    </tr>\n",
              "    <tr>\n",
              "      <th>2600</th>\n",
              "      <td>Haiti</td>\n",
              "      <td>The Americas</td>\n",
              "      <td>01/12/2010</td>\n",
              "      <td>2120.0</td>\n",
              "      <td>2409.0</td>\n",
              "    </tr>\n",
              "    <tr>\n",
              "      <th>2601</th>\n",
              "      <td>Honduras</td>\n",
              "      <td>The Americas</td>\n",
              "      <td>01/12/2010</td>\n",
              "      <td>8108.0</td>\n",
              "      <td>4567.0</td>\n",
              "    </tr>\n",
              "    <tr>\n",
              "      <th>2602</th>\n",
              "      <td>Guatemala</td>\n",
              "      <td>The Americas</td>\n",
              "      <td>01/12/2010</td>\n",
              "      <td>11118.0</td>\n",
              "      <td>10251.0</td>\n",
              "    </tr>\n",
              "  </tbody>\n",
              "</table>\n",
              "<p>1595 rows × 5 columns</p>\n",
              "</div>\n",
              "      <button class=\"colab-df-convert\" onclick=\"convertToInteractive('df-353a513d-d301-483d-b042-56df4b76c277')\"\n",
              "              title=\"Convert this dataframe to an interactive table.\"\n",
              "              style=\"display:none;\">\n",
              "\n",
              "  <svg xmlns=\"http://www.w3.org/2000/svg\" height=\"24px\"viewBox=\"0 0 24 24\"\n",
              "       width=\"24px\">\n",
              "    <path d=\"M0 0h24v24H0V0z\" fill=\"none\"/>\n",
              "    <path d=\"M18.56 5.44l.94 2.06.94-2.06 2.06-.94-2.06-.94-.94-2.06-.94 2.06-2.06.94zm-11 1L8.5 8.5l.94-2.06 2.06-.94-2.06-.94L8.5 2.5l-.94 2.06-2.06.94zm10 10l.94 2.06.94-2.06 2.06-.94-2.06-.94-.94-2.06-.94 2.06-2.06.94z\"/><path d=\"M17.41 7.96l-1.37-1.37c-.4-.4-.92-.59-1.43-.59-.52 0-1.04.2-1.43.59L10.3 9.45l-7.72 7.72c-.78.78-.78 2.05 0 2.83L4 21.41c.39.39.9.59 1.41.59.51 0 1.02-.2 1.41-.59l7.78-7.78 2.81-2.81c.8-.78.8-2.07 0-2.86zM5.41 20L4 18.59l7.72-7.72 1.47 1.35L5.41 20z\"/>\n",
              "  </svg>\n",
              "      </button>\n",
              "\n",
              "\n",
              "\n",
              "    <div id=\"df-a10d956d-c783-42bf-9c99-f092c549feb4\">\n",
              "      <button class=\"colab-df-quickchart\" onclick=\"quickchart('df-a10d956d-c783-42bf-9c99-f092c549feb4')\"\n",
              "              title=\"Suggest charts.\"\n",
              "              style=\"display:none;\">\n",
              "\n",
              "<svg xmlns=\"http://www.w3.org/2000/svg\" height=\"24px\"viewBox=\"0 0 24 24\"\n",
              "     width=\"24px\">\n",
              "    <g>\n",
              "        <path d=\"M19 3H5c-1.1 0-2 .9-2 2v14c0 1.1.9 2 2 2h14c1.1 0 2-.9 2-2V5c0-1.1-.9-2-2-2zM9 17H7v-7h2v7zm4 0h-2V7h2v10zm4 0h-2v-4h2v4z\"/>\n",
              "    </g>\n",
              "</svg>\n",
              "      </button>\n",
              "    </div>\n",
              "\n",
              "<style>\n",
              "  .colab-df-quickchart {\n",
              "    background-color: #E8F0FE;\n",
              "    border: none;\n",
              "    border-radius: 50%;\n",
              "    cursor: pointer;\n",
              "    display: none;\n",
              "    fill: #1967D2;\n",
              "    height: 32px;\n",
              "    padding: 0 0 0 0;\n",
              "    width: 32px;\n",
              "  }\n",
              "\n",
              "  .colab-df-quickchart:hover {\n",
              "    background-color: #E2EBFA;\n",
              "    box-shadow: 0px 1px 2px rgba(60, 64, 67, 0.3), 0px 1px 3px 1px rgba(60, 64, 67, 0.15);\n",
              "    fill: #174EA6;\n",
              "  }\n",
              "\n",
              "  [theme=dark] .colab-df-quickchart {\n",
              "    background-color: #3B4455;\n",
              "    fill: #D2E3FC;\n",
              "  }\n",
              "\n",
              "  [theme=dark] .colab-df-quickchart:hover {\n",
              "    background-color: #434B5C;\n",
              "    box-shadow: 0px 1px 3px 1px rgba(0, 0, 0, 0.15);\n",
              "    filter: drop-shadow(0px 1px 2px rgba(0, 0, 0, 0.3));\n",
              "    fill: #FFFFFF;\n",
              "  }\n",
              "</style>\n",
              "\n",
              "    <script>\n",
              "      async function quickchart(key) {\n",
              "        const containerElement = document.querySelector('#' + key);\n",
              "        const charts = await google.colab.kernel.invokeFunction(\n",
              "            'suggestCharts', [key], {});\n",
              "      }\n",
              "    </script>\n",
              "\n",
              "      <script>\n",
              "\n",
              "function displayQuickchartButton(domScope) {\n",
              "  let quickchartButtonEl =\n",
              "    domScope.querySelector('#df-a10d956d-c783-42bf-9c99-f092c549feb4 button.colab-df-quickchart');\n",
              "  quickchartButtonEl.style.display =\n",
              "    google.colab.kernel.accessAllowed ? 'block' : 'none';\n",
              "}\n",
              "\n",
              "        displayQuickchartButton(document);\n",
              "      </script>\n",
              "      <style>\n",
              "    .colab-df-container {\n",
              "      display:flex;\n",
              "      flex-wrap:wrap;\n",
              "      gap: 12px;\n",
              "    }\n",
              "\n",
              "    .colab-df-convert {\n",
              "      background-color: #E8F0FE;\n",
              "      border: none;\n",
              "      border-radius: 50%;\n",
              "      cursor: pointer;\n",
              "      display: none;\n",
              "      fill: #1967D2;\n",
              "      height: 32px;\n",
              "      padding: 0 0 0 0;\n",
              "      width: 32px;\n",
              "    }\n",
              "\n",
              "    .colab-df-convert:hover {\n",
              "      background-color: #E2EBFA;\n",
              "      box-shadow: 0px 1px 2px rgba(60, 64, 67, 0.3), 0px 1px 3px 1px rgba(60, 64, 67, 0.15);\n",
              "      fill: #174EA6;\n",
              "    }\n",
              "\n",
              "    [theme=dark] .colab-df-convert {\n",
              "      background-color: #3B4455;\n",
              "      fill: #D2E3FC;\n",
              "    }\n",
              "\n",
              "    [theme=dark] .colab-df-convert:hover {\n",
              "      background-color: #434B5C;\n",
              "      box-shadow: 0px 1px 3px 1px rgba(0, 0, 0, 0.15);\n",
              "      filter: drop-shadow(0px 1px 2px rgba(0, 0, 0, 0.3));\n",
              "      fill: #FFFFFF;\n",
              "    }\n",
              "  </style>\n",
              "\n",
              "      <script>\n",
              "        const buttonEl =\n",
              "          document.querySelector('#df-353a513d-d301-483d-b042-56df4b76c277 button.colab-df-convert');\n",
              "        buttonEl.style.display =\n",
              "          google.colab.kernel.accessAllowed ? 'block' : 'none';\n",
              "\n",
              "        async function convertToInteractive(key) {\n",
              "          const element = document.querySelector('#df-353a513d-d301-483d-b042-56df4b76c277');\n",
              "          const dataTable =\n",
              "            await google.colab.kernel.invokeFunction('convertToInteractive',\n",
              "                                                     [key], {});\n",
              "          if (!dataTable) return;\n",
              "\n",
              "          const docLinkHtml = 'Like what you see? Visit the ' +\n",
              "            '<a target=\"_blank\" href=https://colab.research.google.com/notebooks/data_table.ipynb>data table notebook</a>'\n",
              "            + ' to learn more about interactive tables.';\n",
              "          element.innerHTML = '';\n",
              "          dataTable['output_type'] = 'display_data';\n",
              "          await google.colab.output.renderOutput(dataTable, element);\n",
              "          const docLink = document.createElement('div');\n",
              "          docLink.innerHTML = docLinkHtml;\n",
              "          element.appendChild(docLink);\n",
              "        }\n",
              "      </script>\n",
              "    </div>\n",
              "  </div>\n"
            ]
          },
          "metadata": {},
          "execution_count": 26
        }
      ]
    },
    {
      "cell_type": "markdown",
      "source": [
        "## Linear Regression"
      ],
      "metadata": {
        "id": "QiwwUYAawAct"
      }
    },
    {
      "cell_type": "markdown",
      "source": [
        "As already mentioned, **linear regression** is a technique widely used in statistics and data science which allows the use of one or more variables (called independent variables or **regressors**) to predict the value of another variable d interest (called the dependent variable or **target**).\n",
        "\n",
        "To do this it is necessary to build a mathematical **model**, specifically it will be necessary to *find an equation that approximates in the best possible way the relationship* that exists between the regressors and the target variable. In fact, we recall that:\n",
        "\n",
        "> model = approximation of reality"
      ],
      "metadata": {
        "id": "TXttczv3v51-"
      }
    },
    {
      "cell_type": "markdown",
      "source": [
        "### A simple example\n",
        "\n",
        "But let's see immediately a **practical example**. The following dataframe contains fictitious data on the weight and height measurements of 10 people:"
      ],
      "metadata": {
        "id": "6HfGQzjpv9jN"
      }
    },
    {
      "cell_type": "code",
      "source": [
        "data = pd.DataFrame(data = {'height':[175, 170, 172, 185, 165, 183, 182, 191, 178, 162],\n",
        "                            'weight':[68, 65, 63, 86, 60, 70, 80, 89, 74, 64]})\n",
        "data"
      ],
      "metadata": {
        "colab": {
          "base_uri": "https://localhost:8080/",
          "height": 363
        },
        "id": "84Bz0WKmwGfA",
        "outputId": "ce238d8b-8a0b-41b6-be97-71b8a92ddf97"
      },
      "execution_count": 27,
      "outputs": [
        {
          "output_type": "execute_result",
          "data": {
            "text/plain": [
              "   height  weight\n",
              "0     175      68\n",
              "1     170      65\n",
              "2     172      63\n",
              "3     185      86\n",
              "4     165      60\n",
              "5     183      70\n",
              "6     182      80\n",
              "7     191      89\n",
              "8     178      74\n",
              "9     162      64"
            ],
            "text/html": [
              "\n",
              "\n",
              "  <div id=\"df-81a689a7-f2b6-4129-960a-c81564aa12f1\">\n",
              "    <div class=\"colab-df-container\">\n",
              "      <div>\n",
              "<style scoped>\n",
              "    .dataframe tbody tr th:only-of-type {\n",
              "        vertical-align: middle;\n",
              "    }\n",
              "\n",
              "    .dataframe tbody tr th {\n",
              "        vertical-align: top;\n",
              "    }\n",
              "\n",
              "    .dataframe thead th {\n",
              "        text-align: right;\n",
              "    }\n",
              "</style>\n",
              "<table border=\"1\" class=\"dataframe\">\n",
              "  <thead>\n",
              "    <tr style=\"text-align: right;\">\n",
              "      <th></th>\n",
              "      <th>height</th>\n",
              "      <th>weight</th>\n",
              "    </tr>\n",
              "  </thead>\n",
              "  <tbody>\n",
              "    <tr>\n",
              "      <th>0</th>\n",
              "      <td>175</td>\n",
              "      <td>68</td>\n",
              "    </tr>\n",
              "    <tr>\n",
              "      <th>1</th>\n",
              "      <td>170</td>\n",
              "      <td>65</td>\n",
              "    </tr>\n",
              "    <tr>\n",
              "      <th>2</th>\n",
              "      <td>172</td>\n",
              "      <td>63</td>\n",
              "    </tr>\n",
              "    <tr>\n",
              "      <th>3</th>\n",
              "      <td>185</td>\n",
              "      <td>86</td>\n",
              "    </tr>\n",
              "    <tr>\n",
              "      <th>4</th>\n",
              "      <td>165</td>\n",
              "      <td>60</td>\n",
              "    </tr>\n",
              "    <tr>\n",
              "      <th>5</th>\n",
              "      <td>183</td>\n",
              "      <td>70</td>\n",
              "    </tr>\n",
              "    <tr>\n",
              "      <th>6</th>\n",
              "      <td>182</td>\n",
              "      <td>80</td>\n",
              "    </tr>\n",
              "    <tr>\n",
              "      <th>7</th>\n",
              "      <td>191</td>\n",
              "      <td>89</td>\n",
              "    </tr>\n",
              "    <tr>\n",
              "      <th>8</th>\n",
              "      <td>178</td>\n",
              "      <td>74</td>\n",
              "    </tr>\n",
              "    <tr>\n",
              "      <th>9</th>\n",
              "      <td>162</td>\n",
              "      <td>64</td>\n",
              "    </tr>\n",
              "  </tbody>\n",
              "</table>\n",
              "</div>\n",
              "      <button class=\"colab-df-convert\" onclick=\"convertToInteractive('df-81a689a7-f2b6-4129-960a-c81564aa12f1')\"\n",
              "              title=\"Convert this dataframe to an interactive table.\"\n",
              "              style=\"display:none;\">\n",
              "\n",
              "  <svg xmlns=\"http://www.w3.org/2000/svg\" height=\"24px\"viewBox=\"0 0 24 24\"\n",
              "       width=\"24px\">\n",
              "    <path d=\"M0 0h24v24H0V0z\" fill=\"none\"/>\n",
              "    <path d=\"M18.56 5.44l.94 2.06.94-2.06 2.06-.94-2.06-.94-.94-2.06-.94 2.06-2.06.94zm-11 1L8.5 8.5l.94-2.06 2.06-.94-2.06-.94L8.5 2.5l-.94 2.06-2.06.94zm10 10l.94 2.06.94-2.06 2.06-.94-2.06-.94-.94-2.06-.94 2.06-2.06.94z\"/><path d=\"M17.41 7.96l-1.37-1.37c-.4-.4-.92-.59-1.43-.59-.52 0-1.04.2-1.43.59L10.3 9.45l-7.72 7.72c-.78.78-.78 2.05 0 2.83L4 21.41c.39.39.9.59 1.41.59.51 0 1.02-.2 1.41-.59l7.78-7.78 2.81-2.81c.8-.78.8-2.07 0-2.86zM5.41 20L4 18.59l7.72-7.72 1.47 1.35L5.41 20z\"/>\n",
              "  </svg>\n",
              "      </button>\n",
              "\n",
              "\n",
              "\n",
              "    <div id=\"df-e43ff290-bf11-4443-91a0-3530749ace03\">\n",
              "      <button class=\"colab-df-quickchart\" onclick=\"quickchart('df-e43ff290-bf11-4443-91a0-3530749ace03')\"\n",
              "              title=\"Suggest charts.\"\n",
              "              style=\"display:none;\">\n",
              "\n",
              "<svg xmlns=\"http://www.w3.org/2000/svg\" height=\"24px\"viewBox=\"0 0 24 24\"\n",
              "     width=\"24px\">\n",
              "    <g>\n",
              "        <path d=\"M19 3H5c-1.1 0-2 .9-2 2v14c0 1.1.9 2 2 2h14c1.1 0 2-.9 2-2V5c0-1.1-.9-2-2-2zM9 17H7v-7h2v7zm4 0h-2V7h2v10zm4 0h-2v-4h2v4z\"/>\n",
              "    </g>\n",
              "</svg>\n",
              "      </button>\n",
              "    </div>\n",
              "\n",
              "<style>\n",
              "  .colab-df-quickchart {\n",
              "    background-color: #E8F0FE;\n",
              "    border: none;\n",
              "    border-radius: 50%;\n",
              "    cursor: pointer;\n",
              "    display: none;\n",
              "    fill: #1967D2;\n",
              "    height: 32px;\n",
              "    padding: 0 0 0 0;\n",
              "    width: 32px;\n",
              "  }\n",
              "\n",
              "  .colab-df-quickchart:hover {\n",
              "    background-color: #E2EBFA;\n",
              "    box-shadow: 0px 1px 2px rgba(60, 64, 67, 0.3), 0px 1px 3px 1px rgba(60, 64, 67, 0.15);\n",
              "    fill: #174EA6;\n",
              "  }\n",
              "\n",
              "  [theme=dark] .colab-df-quickchart {\n",
              "    background-color: #3B4455;\n",
              "    fill: #D2E3FC;\n",
              "  }\n",
              "\n",
              "  [theme=dark] .colab-df-quickchart:hover {\n",
              "    background-color: #434B5C;\n",
              "    box-shadow: 0px 1px 3px 1px rgba(0, 0, 0, 0.15);\n",
              "    filter: drop-shadow(0px 1px 2px rgba(0, 0, 0, 0.3));\n",
              "    fill: #FFFFFF;\n",
              "  }\n",
              "</style>\n",
              "\n",
              "    <script>\n",
              "      async function quickchart(key) {\n",
              "        const containerElement = document.querySelector('#' + key);\n",
              "        const charts = await google.colab.kernel.invokeFunction(\n",
              "            'suggestCharts', [key], {});\n",
              "      }\n",
              "    </script>\n",
              "\n",
              "      <script>\n",
              "\n",
              "function displayQuickchartButton(domScope) {\n",
              "  let quickchartButtonEl =\n",
              "    domScope.querySelector('#df-e43ff290-bf11-4443-91a0-3530749ace03 button.colab-df-quickchart');\n",
              "  quickchartButtonEl.style.display =\n",
              "    google.colab.kernel.accessAllowed ? 'block' : 'none';\n",
              "}\n",
              "\n",
              "        displayQuickchartButton(document);\n",
              "      </script>\n",
              "      <style>\n",
              "    .colab-df-container {\n",
              "      display:flex;\n",
              "      flex-wrap:wrap;\n",
              "      gap: 12px;\n",
              "    }\n",
              "\n",
              "    .colab-df-convert {\n",
              "      background-color: #E8F0FE;\n",
              "      border: none;\n",
              "      border-radius: 50%;\n",
              "      cursor: pointer;\n",
              "      display: none;\n",
              "      fill: #1967D2;\n",
              "      height: 32px;\n",
              "      padding: 0 0 0 0;\n",
              "      width: 32px;\n",
              "    }\n",
              "\n",
              "    .colab-df-convert:hover {\n",
              "      background-color: #E2EBFA;\n",
              "      box-shadow: 0px 1px 2px rgba(60, 64, 67, 0.3), 0px 1px 3px 1px rgba(60, 64, 67, 0.15);\n",
              "      fill: #174EA6;\n",
              "    }\n",
              "\n",
              "    [theme=dark] .colab-df-convert {\n",
              "      background-color: #3B4455;\n",
              "      fill: #D2E3FC;\n",
              "    }\n",
              "\n",
              "    [theme=dark] .colab-df-convert:hover {\n",
              "      background-color: #434B5C;\n",
              "      box-shadow: 0px 1px 3px 1px rgba(0, 0, 0, 0.15);\n",
              "      filter: drop-shadow(0px 1px 2px rgba(0, 0, 0, 0.3));\n",
              "      fill: #FFFFFF;\n",
              "    }\n",
              "  </style>\n",
              "\n",
              "      <script>\n",
              "        const buttonEl =\n",
              "          document.querySelector('#df-81a689a7-f2b6-4129-960a-c81564aa12f1 button.colab-df-convert');\n",
              "        buttonEl.style.display =\n",
              "          google.colab.kernel.accessAllowed ? 'block' : 'none';\n",
              "\n",
              "        async function convertToInteractive(key) {\n",
              "          const element = document.querySelector('#df-81a689a7-f2b6-4129-960a-c81564aa12f1');\n",
              "          const dataTable =\n",
              "            await google.colab.kernel.invokeFunction('convertToInteractive',\n",
              "                                                     [key], {});\n",
              "          if (!dataTable) return;\n",
              "\n",
              "          const docLinkHtml = 'Like what you see? Visit the ' +\n",
              "            '<a target=\"_blank\" href=https://colab.research.google.com/notebooks/data_table.ipynb>data table notebook</a>'\n",
              "            + ' to learn more about interactive tables.';\n",
              "          element.innerHTML = '';\n",
              "          dataTable['output_type'] = 'display_data';\n",
              "          await google.colab.output.renderOutput(dataTable, element);\n",
              "          const docLink = document.createElement('div');\n",
              "          docLink.innerHTML = docLinkHtml;\n",
              "          element.appendChild(docLink);\n",
              "        }\n",
              "      </script>\n",
              "    </div>\n",
              "  </div>\n"
            ]
          },
          "metadata": {},
          "execution_count": 27
        }
      ]
    },
    {
      "cell_type": "markdown",
      "source": [
        "If we plot these two variables with a scatterplot, we notice that each observation appears to be aligned on a hypothetical straight line that runs from the bottom left corner through the point cloud and continues to the top right corner. :"
      ],
      "metadata": {
        "id": "EDWU6hirwTXM"
      }
    },
    {
      "cell_type": "code",
      "source": [
        "sns.scatterplot(data=data, x='weight', y='height', s=75) # s is diameter of the points\n",
        "plt.show()"
      ],
      "metadata": {
        "colab": {
          "base_uri": "https://localhost:8080/",
          "height": 449
        },
        "id": "CoB8vMuFwV2A",
        "outputId": "480dc26f-8ebd-4d92-c82d-006316e70e89"
      },
      "execution_count": 29,
      "outputs": [
        {
          "output_type": "display_data",
          "data": {
            "text/plain": [
              "<Figure size 640x480 with 1 Axes>"
            ],
            "image/png": "[encoded data removed]"
          },
          "metadata": {}
        }
      ]
    },
    {
      "cell_type": "markdown",
      "source": [
        "#### A bit of theory\n",
        "\n",
        "Dusting off some high school memories, the **equation of a straight line** is given by **$Y = b_{1}X + b_{0}$**:\n",
        "\n",
        "<img src=\"https://raw.githubusercontent.com/boolean-data-analytics/img/main/on-demand/DAREG-line-equation.png\" width=\"800\">\n",
        "\n",
        "*Note: maybe someone will remember the equation expressed as $Y = mX + q$*, but in reality the difference is only in the notation, in fact if we replace $m = b_{1}$ and $q = b_{0 }$, we get the equation of the image above: $Y = b_{1} + b_{0}X$."
      ],
      "metadata": {
        "id": "-cNgDeeFwgjV"
      }
    },
    {
      "cell_type": "markdown",
      "source": [
        "So, as already mentioned, the goal of linear regression is to find the straight line equation that **best approximates** the point cloud (ie the data).\n",
        "\n",
        "But what does \"*the line that fits best*\" mean? The central idea is that the distance of each point from the straight line (i.e. the error of our model) must be as short as possible and therefore, technically, we will have to look for the straight line that **minimizes the sum of the distances** between point and line (the red lines in the image below) squared.\n",
        "\n",
        "<img src=\"https://raw.githubusercontent.com/boolean-data-analytics/img/main/on-demand/DAREG-min-sse.png\" width=\"800\">\n",
        "\n",
        "> Let's get help from [this interactive site](https://mlu-explain.github.io/linear-regression/) to get a better insight than what we've seen so far."
      ],
      "metadata": {
        "id": "WOYA3DUTwlz8"
      }
    }
  ]
}